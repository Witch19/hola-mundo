{
  "nbformat": 4,
  "nbformat_minor": 0,
  "metadata": {
    "colab": {
      "provenance": [],
      "authorship_tag": "ABX9TyMdjVBs6rUNt6xRLbAl5bw8",
      "include_colab_link": true
    },
    "kernelspec": {
      "name": "python3",
      "display_name": "Python 3"
    },
    "language_info": {
      "name": "python"
    }
  },
  "cells": [
    {
      "cell_type": "markdown",
      "metadata": {
        "id": "view-in-github",
        "colab_type": "text"
      },
      "source": [
        "<a href=\"https://colab.research.google.com/github/Witch19/hola-mundo/blob/main/A_T2_SAAVEDRA_JOSELYN.ipynb\" target=\"_parent\"><img src=\"https://colab.research.google.com/assets/colab-badge.svg\" alt=\"Open In Colab\"/></a>"
      ]
    },
    {
      "cell_type": "markdown",
      "source": [
        "DEBER DE TIC"
      ],
      "metadata": {
        "id": "xH9kI0O9q1KD"
      }
    },
    {
      "cell_type": "markdown",
      "source": [
        "1. Hola Mundo: Escribe un programa que imprima \"Hola, Mundo!\" en la pantalla."
      ],
      "metadata": {
        "id": "Rz1rHos6q4cD"
      }
    },
    {
      "cell_type": "code",
      "source": [
        "print(\"HOLA MUNDO\")"
      ],
      "metadata": {
        "colab": {
          "base_uri": "https://localhost:8080/"
        },
        "id": "9UQRAXKaqAN1",
        "outputId": "3e21ebd6-a9e9-4501-a46e-b9fb80511ed2"
      },
      "execution_count": 1,
      "outputs": [
        {
          "output_type": "stream",
          "name": "stdout",
          "text": [
            "HOLA MUNDO\n"
          ]
        }
      ]
    },
    {
      "cell_type": "markdown",
      "source": [
        "2. Suma de dos números: Escribe un programa que pida al usuario dos números y los sume."
      ],
      "metadata": {
        "id": "_fwLK8_Fqwu7"
      }
    },
    {
      "cell_type": "code",
      "source": [
        "a = int(input(\"Ingrese un numero: \"))\n",
        "b = int(input(\"Ingrese un numero: \"))\n",
        "print(a+b)"
      ],
      "metadata": {
        "colab": {
          "base_uri": "https://localhost:8080/"
        },
        "id": "JStx_ChMrEnc",
        "outputId": "ee6c74af-1af7-4048-e7ac-d1c6d9294efd"
      },
      "execution_count": 2,
      "outputs": [
        {
          "output_type": "stream",
          "name": "stdout",
          "text": [
            "Ingrese un numero: 2\n",
            "Ingrese un numero: 3\n",
            "5\n"
          ]
        }
      ]
    },
    {
      "cell_type": "markdown",
      "source": [
        "3. Par o Impar: Escribe un programa que determine si un número introducido por el usuario es par o impar"
      ],
      "metadata": {
        "id": "yYBBkbprrd-b"
      }
    },
    {
      "cell_type": "code",
      "source": [
        "a = int(input(\"Ingrese un numero: \"))\n",
        "\n",
        "##################################################\n",
        "#Aqui utiliza la parte de \"Modulo (%)\", es el que\n",
        "# se encarga de darnos el par\n",
        "##################################################\n",
        "if a % 2 == 0:\n",
        "  print(\"Es par\")\n",
        "else:\n",
        "  print(\"Es impar\")"
      ],
      "metadata": {
        "colab": {
          "base_uri": "https://localhost:8080/"
        },
        "id": "ZEMtlcMSricT",
        "outputId": "ac44db09-6beb-4b72-b70d-02506a4a34d4"
      },
      "execution_count": 3,
      "outputs": [
        {
          "output_type": "stream",
          "name": "stdout",
          "text": [
            "Ingrese un numero: 2\n",
            "Es par\n"
          ]
        }
      ]
    },
    {
      "cell_type": "markdown",
      "source": [
        "4. Calculadora básica: Escribe un programa que realice operaciones básicas (suma, resta, multiplicación y división) entre dos números introducidos por el usuario.\n"
      ],
      "metadata": {
        "id": "EuttmMtIr0GE"
      }
    },
    {
      "cell_type": "code",
      "source": [
        "a = int(input(\"Ingrese un numero: \"))\n",
        "b = int(input(\"Ingrese un numero: \"))\n",
        "\n",
        "############################################################\n",
        "# Ingresa una lista de opciones para que el usuario pueda\n",
        "# elegir la que desee\n",
        "############################################################\n",
        "print(\"\"\"Ingrese que operacion desea realizar:\n",
        "         1. Suma\n",
        "         2. Resta\n",
        "         3. Multiplicacion\n",
        "         4. Division\"\"\")\n",
        "\n",
        "# La opcion que va a escoger el usuario se guarda en esta varible\n",
        "op= int(input(\"Ingrese una opcion: \"))\n",
        "\n",
        "# Se va comparando la opcion que puso el usuario con cada una para poner\n",
        "# la operacion que pertenece\n",
        "if op == 1:\n",
        "  print(a+b)\n",
        "elif op == 2:\n",
        "  print(a-b)\n",
        "elif op == 3:\n",
        "  print(a*b)\n",
        "elif op == 4:\n",
        "  print(a/b)\n",
        "else:\n",
        "  print(\"No encontrado\")"
      ],
      "metadata": {
        "colab": {
          "base_uri": "https://localhost:8080/"
        },
        "id": "lcTzAp3Pr4xQ",
        "outputId": "c2c45d58-24f3-4831-924a-12a4992fa408"
      },
      "execution_count": 5,
      "outputs": [
        {
          "output_type": "stream",
          "name": "stdout",
          "text": [
            "Ingrese un numero: 2\n",
            "Ingrese un numero: 4\n",
            "Ingrese que operacion desea realizar:\n",
            "         1. Suma\n",
            "         2. Resta\n",
            "         3. Multiplicacion\n",
            "         4. Division\n",
            "Ingrese una opcion: 1\n",
            "6\n"
          ]
        }
      ]
    },
    {
      "cell_type": "markdown",
      "source": [
        "5. Número mayor: Escribe un programa que pida tres números al usuario y determine cuál es el mayor."
      ],
      "metadata": {
        "id": "IhwtO74es-fx"
      }
    },
    {
      "cell_type": "code",
      "source": [
        "n1 = int(input(\"Ingrese un numero: \"))\n",
        "n2 = int(input(\"Ingrese un numero: \"))\n",
        "n3 = int(input(\"Ingrese un numero: \"))\n",
        "\n",
        "#############################################################\n",
        "# Evalua cada numero para los dos restantes para verificar\n",
        "# que sea mayor\n",
        "#############################################################\n",
        "if n1 > n2 and n1 > n3:\n",
        "  print(\"El numero mayor es: \",n1)\n",
        "else:\n",
        "  if n2 > n3 and n2 > n1:\n",
        "    print(\"El numero mayor es: \",n2)\n",
        "  else:\n",
        "    print(\"El numero mayor es: \",n3)\n"
      ],
      "metadata": {
        "colab": {
          "base_uri": "https://localhost:8080/"
        },
        "id": "UflONetStDCT",
        "outputId": "1e7abfa5-40c4-4978-8dbd-2bc358e1570c"
      },
      "execution_count": 6,
      "outputs": [
        {
          "output_type": "stream",
          "name": "stdout",
          "text": [
            "Ingrese un numero: 4\n",
            "Ingrese un numero: 5\n",
            "Ingrese un numero: 8\n",
            "El numero mayor es:  8\n"
          ]
        }
      ]
    },
    {
      "cell_type": "markdown",
      "source": [
        "6. Cálculo del área de un círculo: Escribe un programa que calcule el área de un círculo a partir de su radio, ingresado por el usuario."
      ],
      "metadata": {
        "id": "EIPY3oXrt9sZ"
      }
    },
    {
      "cell_type": "code",
      "source": [
        "import math\n",
        "r = int(input(\"Ingrese un numero: \"))\n",
        "resul = math.pi*(r**2)\n",
        "print(f\"Tu resultado del Area es {resul}\")"
      ],
      "metadata": {
        "colab": {
          "base_uri": "https://localhost:8080/"
        },
        "id": "AaaRvGONuB05",
        "outputId": "8fb33182-c43b-4f19-e4d0-c206dd4e7535"
      },
      "execution_count": 10,
      "outputs": [
        {
          "output_type": "stream",
          "name": "stdout",
          "text": [
            "Ingrese un numero: 2\n",
            "Tu resultado del Area es 12.566370614359172\n"
          ]
        }
      ]
    },
    {
      "cell_type": "markdown",
      "source": [
        "7. Conversión de grados Celsius a Fahrenheit: Escribe un programa que convierta una temperatura dada en grados Celsius a grados Fahrenheit."
      ],
      "metadata": {
        "id": "Y1D0bx_vv_nY"
      }
    },
    {
      "cell_type": "code",
      "source": [
        "valor = int(input(\"Ingrese un numero: \"))\n",
        "\n",
        "############################################################\n",
        "# Ingresa una lista de opciones para que el usuario pueda\n",
        "# elegir la que desee\n",
        "############################################################\n",
        "print(\"\"\"Ingrese que operacion desea realizar:\n",
        "         1. `Celsius a Fahrenheit`\n",
        "         2. `Fahrenheit a Celsius\"\"\")\n",
        "\n",
        "# La opcion que va a escoger el usuario se guarda en esta varible\n",
        "op= int(input(\"Ingrese una opcion: \"))\n",
        "if op == 1:\n",
        "  F =(valor * 1.8)+ 32\n",
        "  print(f\"valor en Fahrenheit: {F}\")\n",
        "elif op == 2:\n",
        "  C =(valor - 32)/1.8\n",
        "  print(f\"valor en Celsius: {C}\")\n",
        "else:\n",
        "  print(\"No encontrado\")"
      ],
      "metadata": {
        "colab": {
          "base_uri": "https://localhost:8080/"
        },
        "id": "Jt7Zd7m_wN-_",
        "outputId": "0bb545f4-29ea-4a72-ab1e-362c49896822"
      },
      "execution_count": 11,
      "outputs": [
        {
          "output_type": "stream",
          "name": "stdout",
          "text": [
            "Ingrese un numero: 25\n",
            "Ingrese que operacion desea realizar:\n",
            "         1. `Celsius a Fahrenheit`\n",
            "         2. `Fahrenheit a Celsius\n",
            "Ingrese una opcion: 1\n",
            "valor en Fahrenheit: 77.0\n"
          ]
        }
      ]
    }
  ]
}