{
  "nbformat": 4,
  "nbformat_minor": 0,
  "metadata": {
    "colab": {
      "provenance": [],
      "authorship_tag": "ABX9TyOZ04gHHOc/xV0wS20mf7zn",
      "include_colab_link": true
    },
    "kernelspec": {
      "name": "python3",
      "display_name": "Python 3"
    },
    "language_info": {
      "name": "python"
    }
  },
  "cells": [
    {
      "cell_type": "markdown",
      "metadata": {
        "id": "view-in-github",
        "colab_type": "text"
      },
      "source": [
        "<a href=\"https://colab.research.google.com/github/Witch19/hola-mundo/blob/main/A_T2_SAAVEDRA_JOSELYN.ipynb\" target=\"_parent\"><img src=\"https://colab.research.google.com/assets/colab-badge.svg\" alt=\"Open In Colab\"/></a>"
      ]
    },
    {
      "cell_type": "markdown",
      "source": [
        "# **TRABAJO 2**\n",
        "## **TECNOLOGIAS DE LA INFORMACION Y COMUNICACION**\n",
        "### UNIDAD 3 - HERRAMIENTAS COLABORATIVAS EN LINEA"
      ],
      "metadata": {
        "id": "xH9kI0O9q1KD"
      }
    },
    {
      "cell_type": "markdown",
      "source": [
        "1. Hola Mundo: Escribe un programa que imprima \"Hola, Mundo!\" en la pantalla."
      ],
      "metadata": {
        "id": "Rz1rHos6q4cD"
      }
    },
    {
      "cell_type": "code",
      "source": [
        "print(\"HOLA MUNDO\")"
      ],
      "metadata": {
        "colab": {
          "base_uri": "https://localhost:8080/"
        },
        "id": "9UQRAXKaqAN1",
        "outputId": "3e21ebd6-a9e9-4501-a46e-b9fb80511ed2"
      },
      "execution_count": null,
      "outputs": [
        {
          "output_type": "stream",
          "name": "stdout",
          "text": [
            "HOLA MUNDO\n"
          ]
        }
      ]
    },
    {
      "cell_type": "markdown",
      "source": [
        "2. Suma de dos números: Escribe un programa que pida al usuario dos números y los sume."
      ],
      "metadata": {
        "id": "_fwLK8_Fqwu7"
      }
    },
    {
      "cell_type": "code",
      "source": [
        "a = int(input(\"Ingrese un numero: \"))\n",
        "b = int(input(\"Ingrese un numero: \"))\n",
        "print(a+b)"
      ],
      "metadata": {
        "colab": {
          "base_uri": "https://localhost:8080/"
        },
        "id": "JStx_ChMrEnc",
        "outputId": "ee6c74af-1af7-4048-e7ac-d1c6d9294efd"
      },
      "execution_count": null,
      "outputs": [
        {
          "output_type": "stream",
          "name": "stdout",
          "text": [
            "Ingrese un numero: 2\n",
            "Ingrese un numero: 3\n",
            "5\n"
          ]
        }
      ]
    },
    {
      "cell_type": "markdown",
      "source": [
        "3. Par o Impar: Escribe un programa que determine si un número introducido por el usuario es par o impar"
      ],
      "metadata": {
        "id": "yYBBkbprrd-b"
      }
    },
    {
      "cell_type": "code",
      "source": [
        "a = int(input(\"Ingrese un numero: \"))\n",
        "\n",
        "##################################################\n",
        "#Aqui utiliza la parte de \"Modulo (%)\", es el que\n",
        "# se encarga de darnos el par\n",
        "##################################################\n",
        "if a % 2 == 0:\n",
        "  print(\"Es par\")\n",
        "else:\n",
        "  print(\"Es impar\")"
      ],
      "metadata": {
        "colab": {
          "base_uri": "https://localhost:8080/"
        },
        "id": "ZEMtlcMSricT",
        "outputId": "ac44db09-6beb-4b72-b70d-02506a4a34d4"
      },
      "execution_count": null,
      "outputs": [
        {
          "output_type": "stream",
          "name": "stdout",
          "text": [
            "Ingrese un numero: 2\n",
            "Es par\n"
          ]
        }
      ]
    },
    {
      "cell_type": "markdown",
      "source": [
        "4. Calculadora básica: Escribe un programa que realice operaciones básicas (suma, resta, multiplicación y división) entre dos números introducidos por el usuario.\n"
      ],
      "metadata": {
        "id": "EuttmMtIr0GE"
      }
    },
    {
      "cell_type": "code",
      "source": [
        "a = int(input(\"Ingrese un numero: \"))\n",
        "b = int(input(\"Ingrese un numero: \"))\n",
        "\n",
        "############################################################\n",
        "# Ingresa una lista de opciones para que el usuario pueda\n",
        "# elegir la que desee\n",
        "############################################################\n",
        "print(\"\"\"Ingrese que operacion desea realizar:\n",
        "         1. Suma\n",
        "         2. Resta\n",
        "         3. Multiplicacion\n",
        "         4. Division\"\"\")\n",
        "\n",
        "# La opcion que va a escoger el usuario se guarda en esta varible\n",
        "op= int(input(\"Ingrese una opcion: \"))\n",
        "\n",
        "# Se va comparando la opcion que puso el usuario con cada una para poner\n",
        "# la operacion que pertenece\n",
        "if op == 1:\n",
        "  print(a+b)\n",
        "elif op == 2:\n",
        "  print(a-b)\n",
        "elif op == 3:\n",
        "  print(a*b)\n",
        "elif op == 4:\n",
        "  print(a/b)\n",
        "else:\n",
        "  print(\"No encontrado\")"
      ],
      "metadata": {
        "colab": {
          "base_uri": "https://localhost:8080/"
        },
        "id": "lcTzAp3Pr4xQ",
        "outputId": "c2c45d58-24f3-4831-924a-12a4992fa408"
      },
      "execution_count": null,
      "outputs": [
        {
          "output_type": "stream",
          "name": "stdout",
          "text": [
            "Ingrese un numero: 2\n",
            "Ingrese un numero: 4\n",
            "Ingrese que operacion desea realizar:\n",
            "         1. Suma\n",
            "         2. Resta\n",
            "         3. Multiplicacion\n",
            "         4. Division\n",
            "Ingrese una opcion: 1\n",
            "6\n"
          ]
        }
      ]
    },
    {
      "cell_type": "markdown",
      "source": [
        "5. Número mayor: Escribe un programa que pida tres números al usuario y determine cuál es el mayor."
      ],
      "metadata": {
        "id": "IhwtO74es-fx"
      }
    },
    {
      "cell_type": "code",
      "source": [
        "n1 = int(input(\"Ingrese un numero: \"))\n",
        "n2 = int(input(\"Ingrese un numero: \"))\n",
        "n3 = int(input(\"Ingrese un numero: \"))\n",
        "\n",
        "#############################################################\n",
        "# Evalua cada numero para los dos restantes para verificar\n",
        "# que sea mayor\n",
        "#############################################################\n",
        "if n1 > n2 and n1 > n3:\n",
        "  print(\"El numero mayor es: \",n1)\n",
        "else:\n",
        "  if n2 > n3 and n2 > n1:\n",
        "    print(\"El numero mayor es: \",n2)\n",
        "  else:\n",
        "    print(\"El numero mayor es: \",n3)\n"
      ],
      "metadata": {
        "colab": {
          "base_uri": "https://localhost:8080/"
        },
        "id": "UflONetStDCT",
        "outputId": "1e7abfa5-40c4-4978-8dbd-2bc358e1570c"
      },
      "execution_count": null,
      "outputs": [
        {
          "output_type": "stream",
          "name": "stdout",
          "text": [
            "Ingrese un numero: 4\n",
            "Ingrese un numero: 5\n",
            "Ingrese un numero: 8\n",
            "El numero mayor es:  8\n"
          ]
        }
      ]
    },
    {
      "cell_type": "markdown",
      "source": [
        "6. Cálculo del área de un círculo: Escribe un programa que calcule el área de un círculo a partir de su radio, ingresado por el usuario."
      ],
      "metadata": {
        "id": "EIPY3oXrt9sZ"
      }
    },
    {
      "cell_type": "code",
      "source": [
        "import math\n",
        "r = int(input(\"Ingrese un numero: \"))\n",
        "resul = math.pi*(r**2)\n",
        "print(f\"Tu resultado del Area es {resul}\")"
      ],
      "metadata": {
        "colab": {
          "base_uri": "https://localhost:8080/"
        },
        "id": "AaaRvGONuB05",
        "outputId": "8fb33182-c43b-4f19-e4d0-c206dd4e7535"
      },
      "execution_count": null,
      "outputs": [
        {
          "output_type": "stream",
          "name": "stdout",
          "text": [
            "Ingrese un numero: 2\n",
            "Tu resultado del Area es 12.566370614359172\n"
          ]
        }
      ]
    },
    {
      "cell_type": "markdown",
      "source": [
        "7. Conversión de grados Celsius a Fahrenheit: Escribe un programa que convierta una temperatura dada en grados Celsius a grados Fahrenheit."
      ],
      "metadata": {
        "id": "Y1D0bx_vv_nY"
      }
    },
    {
      "cell_type": "code",
      "source": [
        "valor = int(input(\"Ingrese un numero: \"))\n",
        "\n",
        "############################################################\n",
        "# Ingresa una lista de opciones para que el usuario pueda\n",
        "# elegir la que desee\n",
        "############################################################\n",
        "print(\"\"\"Ingrese que operacion desea realizar:\n",
        "         1. `Celsius a Fahrenheit`\n",
        "         2. `Fahrenheit a Celsius\"\"\")\n",
        "\n",
        "# La opcion que va a escoger el usuario se guarda en esta varible\n",
        "op= int(input(\"Ingrese una opcion: \"))\n",
        "if op == 1:\n",
        "  F =(valor * 1.8)+ 32\n",
        "  print(f\"valor en Fahrenheit: {F}\")\n",
        "elif op == 2:\n",
        "  C =(valor - 32)/1.8\n",
        "  print(f\"valor en Celsius: {C}\")\n",
        "else:\n",
        "  print(\"No encontrado\")"
      ],
      "metadata": {
        "colab": {
          "base_uri": "https://localhost:8080/"
        },
        "id": "Jt7Zd7m_wN-_",
        "outputId": "0bb545f4-29ea-4a72-ab1e-362c49896822"
      },
      "execution_count": null,
      "outputs": [
        {
          "output_type": "stream",
          "name": "stdout",
          "text": [
            "Ingrese un numero: 25\n",
            "Ingrese que operacion desea realizar:\n",
            "         1. `Celsius a Fahrenheit`\n",
            "         2. `Fahrenheit a Celsius\n",
            "Ingrese una opcion: 1\n",
            "valor en Fahrenheit: 77.0\n"
          ]
        }
      ]
    },
    {
      "cell_type": "markdown",
      "source": [
        "8. Cuenta atrás: Escribe un programa que cuente hacia atrás desde 10 hasta 0."
      ],
      "metadata": {
        "id": "poMIQTVS1hHx"
      }
    },
    {
      "cell_type": "code",
      "source": [
        "\n",
        "#############################################################\n",
        "# Aqui se hace un for para que recorra un rango de datos\n",
        "# los -1 son las ineraxiones que va a tener al ir pasando\n",
        "#############################################################\n",
        "for var in range(10,-1,-1):\n",
        "  print(var)"
      ],
      "metadata": {
        "colab": {
          "base_uri": "https://localhost:8080/"
        },
        "id": "h61-wjnI1l0g",
        "outputId": "7171cc84-8425-414b-9948-016d86379971"
      },
      "execution_count": null,
      "outputs": [
        {
          "output_type": "stream",
          "name": "stdout",
          "text": [
            "10\n",
            "9\n",
            "8\n",
            "7\n",
            "6\n",
            "5\n",
            "4\n",
            "3\n",
            "2\n",
            "1\n",
            "0\n"
          ]
        }
      ]
    },
    {
      "cell_type": "markdown",
      "source": [
        "9. Tabla de multiplicar: Escribe un programa que muestre la tabla de multiplicar de un número introducido por el usuario."
      ],
      "metadata": {
        "id": "O0BkCVjA2MjI"
      }
    },
    {
      "cell_type": "code",
      "source": [
        "\n",
        "##########################################################################\n",
        "# Se creo una funcion la cual nos va ayudar a crear la multiplicacion de\n",
        "# cada numero que entra\n",
        "##########################################################################\n",
        "def tabla(numero):\n",
        "    print(f\"Tabla de multiplicar {numero}\")\n",
        "    for contador in range(1,11):\n",
        "        operacion = numero * contador\n",
        "        print(f\"{numero} * {contador} = {operacion}\")\n",
        "# Este se encarga de ingresar el rango de las tablas que va a sacar\n",
        "var = int(input(\"Ingrese el rango de tablas de multiplicar: \"))\n",
        "\n",
        "# Aqui se hace un for para que recorra un rango de datos q puso el usuario\n",
        "for numero_tabla in range(1, var+1):\n",
        "    tabla(numero_tabla)"
      ],
      "metadata": {
        "colab": {
          "base_uri": "https://localhost:8080/"
        },
        "id": "tSjAi8wGKerM",
        "outputId": "6db06969-211e-4868-c910-309921365c18"
      },
      "execution_count": 6,
      "outputs": [
        {
          "output_type": "stream",
          "name": "stdout",
          "text": [
            "Ingrese el rango de tablas de multiplicar: 2\n",
            "Tabla de multiplicar 1\n",
            "1 * 1 = 1\n",
            "1 * 2 = 2\n",
            "1 * 3 = 3\n",
            "1 * 4 = 4\n",
            "1 * 5 = 5\n",
            "1 * 6 = 6\n",
            "1 * 7 = 7\n",
            "1 * 8 = 8\n",
            "1 * 9 = 9\n",
            "1 * 10 = 10\n",
            "Tabla de multiplicar 2\n",
            "2 * 1 = 2\n",
            "2 * 2 = 4\n",
            "2 * 3 = 6\n",
            "2 * 4 = 8\n",
            "2 * 5 = 10\n",
            "2 * 6 = 12\n",
            "2 * 7 = 14\n",
            "2 * 8 = 16\n",
            "2 * 9 = 18\n",
            "2 * 10 = 20\n"
          ]
        }
      ]
    },
    {
      "cell_type": "markdown",
      "source": [
        "10. Números primos: Escribe un programa que determine si un número introducido por el usuario es primo."
      ],
      "metadata": {
        "id": "IIp0JQGduhrd"
      }
    },
    {
      "cell_type": "code",
      "source": [
        "\n",
        "##############################################################################\n",
        "# Se ingresa un numero y el contador, este va a entrar a un rango y empieza\n",
        "# a comparar cual es igual a 0 va a se primo y el que no es\n",
        "##############################################################################\n",
        "a = int(input(\"Ingrese un numero: \"))\n",
        "cont=0\n",
        "\n",
        "for var in range(2,a):\n",
        "  if a % var == 0:\n",
        "    cont+=1\n",
        "    break\n",
        "\n",
        "if cont == 0:\n",
        "  print(\"Numero primo\")\n",
        "else:\n",
        "  print(\"No es un numero primo\")"
      ],
      "metadata": {
        "colab": {
          "base_uri": "https://localhost:8080/"
        },
        "id": "3p0zY1h4ujTX",
        "outputId": "0bcc14a9-1559-4960-ad57-4a4ac86cc79b"
      },
      "execution_count": 5,
      "outputs": [
        {
          "output_type": "stream",
          "name": "stdout",
          "text": [
            "Ingrese un numero: 6\n",
            "No es un numero primo\n"
          ]
        }
      ]
    },
    {
      "cell_type": "markdown",
      "source": [
        "11. Sumar números hasta un límite: Escribe un programa que sume todos los números naturales hasta un número límite introducido por el usuario."
      ],
      "metadata": {
        "id": "0gONd2mfuqgG"
      }
    },
    {
      "cell_type": "code",
      "source": [],
      "metadata": {
        "id": "_wKNN8dAusxw"
      },
      "execution_count": null,
      "outputs": []
    },
    {
      "cell_type": "markdown",
      "source": [
        "12. Invertir una cadena: Escribe un programa que invierta una cadena introducida por el usuario."
      ],
      "metadata": {
        "id": "w3mM5rcIu1Lb"
      }
    },
    {
      "cell_type": "code",
      "source": [
        "#Ingresa una lista\n",
        "a=str(input(\"Ingres varios numeros separados por comas: \"))\n",
        "\n",
        "#coge las comas y lo va clasificando\n",
        "valor=a.split(\",\")\n",
        "\n",
        "#valores ingresados y el reverse, le da la vuelta\n",
        "print(f\"Valor ingresado{valor}\")\n",
        "print(type(valor))\n",
        "valor.reverse()\n",
        "print(valor)"
      ],
      "metadata": {
        "colab": {
          "base_uri": "https://localhost:8080/"
        },
        "id": "O1wO-gHLu218",
        "outputId": "9139ffdb-c4ca-4c68-ab3b-501898d18a4f"
      },
      "execution_count": 10,
      "outputs": [
        {
          "output_type": "stream",
          "name": "stdout",
          "text": [
            "Ingres varios numeros separados por comas: 2,5,43,1,23\n",
            "Valor ingresado['2', '5', '43', '1', '23']\n",
            "<class 'list'>\n",
            "['23', '1', '43', '5', '2']\n"
          ]
        }
      ]
    },
    {
      "cell_type": "markdown",
      "source": [
        "13. Contar vocales: Escribe un programa que cuente el número de vocales en una cadena introducida por el usuario."
      ],
      "metadata": {
        "id": "q-gZoT1zu3Vf"
      }
    },
    {
      "cell_type": "code",
      "source": [],
      "metadata": {
        "id": "LP9b4dJAu6rx"
      },
      "execution_count": null,
      "outputs": []
    },
    {
      "cell_type": "markdown",
      "source": [
        "14. Palíndromo: Escribe un programa que determine si una cadena introducida por el usuario es un palíndromo."
      ],
      "metadata": {
        "id": "9gjz7H0eu7Bj"
      }
    },
    {
      "cell_type": "code",
      "source": [],
      "metadata": {
        "id": "RCQ-AoX0u-fb"
      },
      "execution_count": null,
      "outputs": []
    },
    {
      "cell_type": "markdown",
      "source": [
        "15. Factorial de un número: Escribe un programa que calcule el factorial de un número introducido por el usuario."
      ],
      "metadata": {
        "id": "Mhoj2JU2vBOg"
      }
    },
    {
      "cell_type": "code",
      "source": [
        "\n",
        "#########################################################################\n",
        "#Se agrega un numero y un contador q comience en 1 para q pueda hacerse\n",
        "# el factorial, en el factorial se multiplican entre ellos\n",
        "#########################################################################\n",
        "num = int(input(\"Ingrese numero q desee su factorial: \"))\n",
        "fac=1\n",
        "\n",
        "for var in range(1, num+1):\n",
        "  fac=fac*var\n",
        "print(f\"Su numero es: {num} y su factorial es: {fac}\")"
      ],
      "metadata": {
        "colab": {
          "base_uri": "https://localhost:8080/"
        },
        "id": "gl1wtMVsvCls",
        "outputId": "65914d0b-8bad-4d68-ff17-ea8d479124b1"
      },
      "execution_count": 15,
      "outputs": [
        {
          "output_type": "stream",
          "name": "stdout",
          "text": [
            "Ingrese numero q desee su factorial: 5\n",
            "Su numero es: 5 y su factorial es: 120\n"
          ]
        }
      ]
    },
    {
      "cell_type": "markdown",
      "source": [
        "16. Generar números aleatorios: Escribe un programa que genere y muestre 5 números aleatorios entre 1 y 100.\n"
      ],
      "metadata": {
        "id": "UDXACyTMvC5t"
      }
    },
    {
      "cell_type": "code",
      "source": [
        "#importamos la libreria del random y se crea un contador para que nos ayude\n",
        "# contar hasta el 5, ya que solo necesitamos 5 numeros\n",
        "import random\n",
        "cont=0\n",
        "\n",
        "while cont < 5:\n",
        "  #Aqui llama a la libreria y el randint, me da numeros enteros dentro de un\n",
        "  #rango de numeros\n",
        "  valor = random.randint(1,100)\n",
        "  print(valor)\n",
        "  cont+=1\n"
      ],
      "metadata": {
        "colab": {
          "base_uri": "https://localhost:8080/"
        },
        "id": "R2tk6lsFvGVr",
        "outputId": "bde6e30f-a5b9-434a-c389-eb99514cda46"
      },
      "execution_count": 22,
      "outputs": [
        {
          "output_type": "stream",
          "name": "stdout",
          "text": [
            "45\n",
            "34\n",
            "81\n",
            "38\n",
            "68\n"
          ]
        }
      ]
    },
    {
      "cell_type": "markdown",
      "source": [
        "17. Calculadora de índice de masa corporal (IMC): Escribe un programa que calcule el índice de masa corporal (IMC) a partir del peso y la altura introducidos por el usuario."
      ],
      "metadata": {
        "id": "70H0DIuSvG3w"
      }
    },
    {
      "cell_type": "code",
      "source": [],
      "metadata": {
        "id": "DvMkdr3lvKUT"
      },
      "execution_count": null,
      "outputs": []
    }
  ]
}